{
 "cells": [
  {
   "cell_type": "code",
   "execution_count": 324,
   "id": "b962f47e-dc18-453d-8b79-ef26018f1641",
   "metadata": {},
   "outputs": [
    {
     "data": {
      "text/plain": [
       "'/Volumes/GoogleDrive/My Drive/PhD/Asset Pricing/mehra_prescott'"
      ]
     },
     "execution_count": 324,
     "metadata": {},
     "output_type": "execute_result"
    }
   ],
   "source": [
    "import os\n",
    "\n",
    "import numpy as np\n",
    "import pandas as pd\n",
    "from math import erfc, sqrt\n",
    "\n",
    "from scipy import stats\n",
    "import statsmodels.api as sm\n",
    "import warnings\n",
    "\n",
    "warnings.filterwarnings('ignore')\n",
    "os.getcwd()"
   ]
  },
  {
   "cell_type": "code",
   "execution_count": 325,
   "id": "d314fe2b-cee6-431c-a569-fd0d6301d35d",
   "metadata": {},
   "outputs": [
    {
     "data": {
      "text/html": [
       "<div>\n",
       "<style scoped>\n",
       "    .dataframe tbody tr th:only-of-type {\n",
       "        vertical-align: middle;\n",
       "    }\n",
       "\n",
       "    .dataframe tbody tr th {\n",
       "        vertical-align: top;\n",
       "    }\n",
       "\n",
       "    .dataframe thead th {\n",
       "        text-align: right;\n",
       "    }\n",
       "</style>\n",
       "<table border=\"1\" class=\"dataframe\">\n",
       "  <thead>\n",
       "    <tr style=\"text-align: right;\">\n",
       "      <th></th>\n",
       "      <th>Growth</th>\n",
       "    </tr>\n",
       "  </thead>\n",
       "  <tbody>\n",
       "    <tr>\n",
       "      <th>count</th>\n",
       "      <td>91.0000</td>\n",
       "    </tr>\n",
       "    <tr>\n",
       "      <th>mean</th>\n",
       "      <td>0.0173</td>\n",
       "    </tr>\n",
       "    <tr>\n",
       "      <th>std</th>\n",
       "      <td>0.0220</td>\n",
       "    </tr>\n",
       "    <tr>\n",
       "      <th>min</th>\n",
       "      <td>-0.0806</td>\n",
       "    </tr>\n",
       "    <tr>\n",
       "      <th>25%</th>\n",
       "      <td>0.0099</td>\n",
       "    </tr>\n",
       "    <tr>\n",
       "      <th>50%</th>\n",
       "      <td>0.0203</td>\n",
       "    </tr>\n",
       "    <tr>\n",
       "      <th>75%</th>\n",
       "      <td>0.0305</td>\n",
       "    </tr>\n",
       "    <tr>\n",
       "      <th>max</th>\n",
       "      <td>0.0737</td>\n",
       "    </tr>\n",
       "  </tbody>\n",
       "</table>\n",
       "</div>"
      ],
      "text/plain": [
       "        Growth\n",
       "count  91.0000\n",
       "mean    0.0173\n",
       "std     0.0220\n",
       "min    -0.0806\n",
       "25%     0.0099\n",
       "50%     0.0203\n",
       "75%     0.0305\n",
       "max     0.0737"
      ]
     },
     "execution_count": 325,
     "metadata": {},
     "output_type": "execute_result"
    }
   ],
   "source": [
    "data = pd.read_excel(\"./PCE growth data.xlsx\", index_col=\"Year\")\n",
    "\n",
    "growth = data['Growth']\n",
    "growth_lag1 = growth.shift(1).dropna()\n",
    "\n",
    "growth = growth.iloc[1:]\n",
    "\n",
    "data[['Growth']].describe().round(4)"
   ]
  },
  {
   "cell_type": "markdown",
   "id": "3dc1cf02-8766-4782-814f-989f902e4101",
   "metadata": {},
   "source": [
    "## Fit an AR(1) model"
   ]
  },
  {
   "cell_type": "code",
   "execution_count": 327,
   "id": "772213c2-ab13-4ea4-8abf-bf2ba8edcdc0",
   "metadata": {},
   "outputs": [
    {
     "name": "stdout",
     "output_type": "stream",
     "text": [
      "σ =  0.018699544784718813\n"
     ]
    },
    {
     "data": {
      "text/plain": [
       "const     0.009307\n",
       "Growth    0.479500\n",
       "dtype: float64"
      ]
     },
     "execution_count": 327,
     "metadata": {},
     "output_type": "execute_result"
    }
   ],
   "source": [
    "# Fit model\n",
    "Y = growth\n",
    "X = growth_lag1\n",
    "\n",
    "X = sm.add_constant(X)\n",
    "model = sm.OLS(Y,X)\n",
    "res = model.fit()\n",
    "\n",
    "# Save parameters\n",
    "u, rho = res.params  # Const + AR(1) param\n",
    "sigma = np.sqrt(res.scale)\n",
    "reg_vars = [u, sigma, rho]\n",
    "\n",
    "print('σ = ',res.scale**(0.5))\n",
    "res.params"
   ]
  },
  {
   "cell_type": "code",
   "execution_count": 356,
   "id": "cabfca63-e951-4322-8981-e8beb89f84cb",
   "metadata": {},
   "outputs": [
    {
     "data": {
      "text/html": [
       "<div>\n",
       "<style scoped>\n",
       "    .dataframe tbody tr th:only-of-type {\n",
       "        vertical-align: middle;\n",
       "    }\n",
       "\n",
       "    .dataframe tbody tr th {\n",
       "        vertical-align: top;\n",
       "    }\n",
       "\n",
       "    .dataframe thead th {\n",
       "        text-align: right;\n",
       "    }\n",
       "</style>\n",
       "<table border=\"1\" class=\"dataframe\">\n",
       "  <thead>\n",
       "    <tr style=\"text-align: right;\">\n",
       "      <th></th>\n",
       "      <th>mean</th>\n",
       "      <th>std</th>\n",
       "      <th>rho</th>\n",
       "    </tr>\n",
       "  </thead>\n",
       "  <tbody>\n",
       "    <tr>\n",
       "      <th>regression</th>\n",
       "      <td>0.009307</td>\n",
       "      <td>0.018700</td>\n",
       "      <td>0.4795</td>\n",
       "    </tr>\n",
       "    <tr>\n",
       "      <th>ar_moments</th>\n",
       "      <td>1.017882</td>\n",
       "      <td>0.021309</td>\n",
       "      <td>0.4795</td>\n",
       "    </tr>\n",
       "  </tbody>\n",
       "</table>\n",
       "</div>"
      ],
      "text/plain": [
       "                mean       std     rho\n",
       "regression  0.009307  0.018700  0.4795\n",
       "ar_moments  1.017882  0.021309  0.4795"
      ]
     },
     "execution_count": 356,
     "metadata": {},
     "output_type": "execute_result"
    }
   ],
   "source": [
    "# Compute unconditional moments\n",
    "ar_mean = u / (1-rho) + 1\n",
    "ar_std = np.sqrt(sigma**2 / (1-rho**2))\n",
    "ar_rho = rho #rho * ar_std**2\n",
    "\n",
    "ar_vars = [ar_mean, ar_std, ar_rho]\n",
    "\n",
    "# Summarize results\n",
    "summ = pd.DataFrame([reg_vars, ar_vars],\n",
    "             columns=['mean', 'std', 'rho'],\n",
    "             index=['regression', 'ar_moments'])\n",
    "summ"
   ]
  },
  {
   "cell_type": "markdown",
   "id": "a5506554-88d5-49fe-8363-9cfc0618df1a",
   "metadata": {},
   "source": [
    "## Calibrate markov chain"
   ]
  },
  {
   "cell_type": "code",
   "execution_count": 357,
   "id": "a8e1fad9-f37c-4da6-9415-d28848be42a6",
   "metadata": {
    "tags": []
   },
   "outputs": [
    {
     "data": {
      "text/plain": [
       "(array([0.99657272, 1.03919074]),\n",
       " array([[0.73975015, 0.26024985],\n",
       "        [0.26024985, 0.73975015]]))"
      ]
     },
     "execution_count": 357,
     "metadata": {},
     "output_type": "execute_result"
    }
   ],
   "source": [
    "Z, P = rouwenhorst(n=2, mu=ar_mean, sigma=ar_std, rho=rho)  # state-vector and TPM\n",
    "\n",
    "Z, P"
   ]
  },
  {
   "cell_type": "code",
   "execution_count": 358,
   "id": "ace6d680-d056-4f28-991c-25e63544c805",
   "metadata": {},
   "outputs": [
    {
     "name": "stdout",
     "output_type": "stream",
     "text": [
      "Check if stationary dist is same for both methods:  True \n",
      " ----------------------------------------\n"
     ]
    },
    {
     "data": {
      "text/plain": [
       "array([0.5, 0.5])"
      ]
     },
     "execution_count": 358,
     "metadata": {},
     "output_type": "execute_result"
    }
   ],
   "source": [
    "# Compute unconditional probabilities (ergodic distribution):\n",
    "eig_val, eig_vec = np.linalg.eig(P.T)\n",
    "eig_vec = eig_vec[:, np.argmax(eig_val)]\n",
    "pi_bar = eig_vec / eig_vec.sum()\n",
    "\n",
    "# Compute unconditional probabilities (ergodic distribution) with brute force:\n",
    "pi_brute = np.linalg.matrix_power(P, 1000)[0]\n",
    "\n",
    "print(\"Check if stationary dist is same for both methods: \",\n",
    "      (pi_bar.round(10) == pi_brute.round(10)).all(), \"\\n\",\"-\"*40)\n",
    "pi_bar"
   ]
  },
  {
   "cell_type": "markdown",
   "id": "215be9e5-7452-45e1-9c12-0179156fafbe",
   "metadata": {},
   "source": [
    "### Get moments of markov chain"
   ]
  },
  {
   "cell_type": "code",
   "execution_count": 359,
   "id": "e798c94b-e567-446a-8dc7-71ea0fcf5038",
   "metadata": {},
   "outputs": [
    {
     "data": {
      "text/html": [
       "<div>\n",
       "<style scoped>\n",
       "    .dataframe tbody tr th:only-of-type {\n",
       "        vertical-align: middle;\n",
       "    }\n",
       "\n",
       "    .dataframe tbody tr th {\n",
       "        vertical-align: top;\n",
       "    }\n",
       "\n",
       "    .dataframe thead th {\n",
       "        text-align: right;\n",
       "    }\n",
       "</style>\n",
       "<table border=\"1\" class=\"dataframe\">\n",
       "  <thead>\n",
       "    <tr style=\"text-align: right;\">\n",
       "      <th></th>\n",
       "      <th>mean</th>\n",
       "      <th>std</th>\n",
       "      <th>rho</th>\n",
       "    </tr>\n",
       "  </thead>\n",
       "  <tbody>\n",
       "    <tr>\n",
       "      <th>regression</th>\n",
       "      <td>0.009307</td>\n",
       "      <td>0.018700</td>\n",
       "      <td>0.4795</td>\n",
       "    </tr>\n",
       "    <tr>\n",
       "      <th>ar_moments</th>\n",
       "      <td>1.017882</td>\n",
       "      <td>0.021309</td>\n",
       "      <td>0.4795</td>\n",
       "    </tr>\n",
       "    <tr>\n",
       "      <th>mc2</th>\n",
       "      <td>1.017882</td>\n",
       "      <td>0.021309</td>\n",
       "      <td>0.4795</td>\n",
       "    </tr>\n",
       "  </tbody>\n",
       "</table>\n",
       "</div>"
      ],
      "text/plain": [
       "                mean       std     rho\n",
       "regression  0.009307  0.018700  0.4795\n",
       "ar_moments  1.017882  0.021309  0.4795\n",
       "mc2         1.017882  0.021309  0.4795"
      ]
     },
     "execution_count": 359,
     "metadata": {},
     "output_type": "execute_result"
    }
   ],
   "source": [
    "m_mean = pi_bar @ Z\n",
    "m_std = np.sqrt(pi_bar @ Z**2 - (pi_bar @ Z)**2)\n",
    "m_rho = np.trace(P) - 1\n",
    "\n",
    "m_vars = [m_mean, m_std, m_rho]\n",
    "\n",
    "summ = summ.append(pd.Series(m_vars, index=summ.columns, name='mc2'))\n",
    "summ"
   ]
  },
  {
   "cell_type": "code",
   "execution_count": 362,
   "id": "a4da7053-3fa7-4e72-8c0e-771a582b06e0",
   "metadata": {},
   "outputs": [
    {
     "data": {
      "text/html": [
       "<div>\n",
       "<style scoped>\n",
       "    .dataframe tbody tr th:only-of-type {\n",
       "        vertical-align: middle;\n",
       "    }\n",
       "\n",
       "    .dataframe tbody tr th {\n",
       "        vertical-align: top;\n",
       "    }\n",
       "\n",
       "    .dataframe thead th {\n",
       "        text-align: right;\n",
       "    }\n",
       "</style>\n",
       "<table border=\"1\" class=\"dataframe\">\n",
       "  <thead>\n",
       "    <tr style=\"text-align: right;\">\n",
       "      <th></th>\n",
       "      <th>mean</th>\n",
       "      <th>std</th>\n",
       "      <th>rho</th>\n",
       "    </tr>\n",
       "  </thead>\n",
       "  <tbody>\n",
       "    <tr>\n",
       "      <th>regression</th>\n",
       "      <td>0.009307</td>\n",
       "      <td>0.018700</td>\n",
       "      <td>0.479500</td>\n",
       "    </tr>\n",
       "    <tr>\n",
       "      <th>ar_moments</th>\n",
       "      <td>1.017882</td>\n",
       "      <td>0.021309</td>\n",
       "      <td>0.479500</td>\n",
       "    </tr>\n",
       "    <tr>\n",
       "      <th>mc2</th>\n",
       "      <td>1.017882</td>\n",
       "      <td>0.021309</td>\n",
       "      <td>0.479500</td>\n",
       "    </tr>\n",
       "    <tr>\n",
       "      <th>mc10</th>\n",
       "      <td>1.017882</td>\n",
       "      <td>0.021309</td>\n",
       "      <td>0.919996</td>\n",
       "    </tr>\n",
       "    <tr>\n",
       "      <th>mc10</th>\n",
       "      <td>1.017882</td>\n",
       "      <td>0.021309</td>\n",
       "      <td>-0.786667</td>\n",
       "    </tr>\n",
       "  </tbody>\n",
       "</table>\n",
       "</div>"
      ],
      "text/plain": [
       "                mean       std       rho\n",
       "regression  0.009307  0.018700  0.479500\n",
       "ar_moments  1.017882  0.021309  0.479500\n",
       "mc2         1.017882  0.021309  0.479500\n",
       "mc10        1.017882  0.021309  0.919996\n",
       "mc10        1.017882  0.021309 -0.786667"
      ]
     },
     "execution_count": 362,
     "metadata": {},
     "output_type": "execute_result"
    }
   ],
   "source": [
    "Z, P = rouwenhorst(n=10, mu=ar_mean, sigma=ar_std, rho=rho)  # state-vector and TPM\n",
    "# Compute unconditional probabilities (ergodic distribution):\n",
    "eig_val, eig_vec = np.linalg.eig(P.T)\n",
    "eig_vec = eig_vec[:, np.argmax(eig_val)]\n",
    "pi_bar = eig_vec / eig_vec.sum()\n",
    "\n",
    "m_mean = pi_bar @ Z\n",
    "m_std = np.sqrt(pi_bar @ Z**2 - (pi_bar @ Z)**2)\n",
    "m_rho = np.trace(P) - 1\n",
    "\n",
    "m_vars = [m_mean, m_std, m_rho]\n",
    "\n",
    "summ = summ.append(pd.Series(m_vars, index=summ.columns, name='mc10'))\n",
    "summ"
   ]
  },
  {
   "cell_type": "code",
   "execution_count": null,
   "id": "a7392ed2-4fd5-4e2c-b5a7-f267b491e7f5",
   "metadata": {},
   "outputs": [],
   "source": []
  },
  {
   "cell_type": "code",
   "execution_count": null,
   "id": "2578ec9e-a50f-4dd5-81ab-75ccbaba7f91",
   "metadata": {},
   "outputs": [],
   "source": []
  },
  {
   "cell_type": "code",
   "execution_count": null,
   "id": "fc338ebd-b06d-4ecd-9336-283bff25acf2",
   "metadata": {},
   "outputs": [],
   "source": []
  },
  {
   "cell_type": "code",
   "execution_count": null,
   "id": "a06e2dc4-b943-4ab8-8801-5ca49203775c",
   "metadata": {},
   "outputs": [],
   "source": []
  },
  {
   "cell_type": "code",
   "execution_count": 355,
   "id": "b8b5af98-8b68-4e67-bcab-907c90cc2fa9",
   "metadata": {},
   "outputs": [],
   "source": [
    "def rouwenhorst(n, mu, sigma, rho):\n",
    "    r\"\"\"\n",
    "    Takes as inputs n, p, q, psi. It will then construct a markov chain\n",
    "    that estimates an AR(1)\n",
    "    \n",
    "    Uses mu, sigma and rho directly from AR regression.\n",
    "\n",
    "    Parameters\n",
    "    ----------\n",
    "    n : int\n",
    "        The number of points to approximate the distribution\n",
    "    mu : float\n",
    "        The value :math:`\\bar{y}` in the process.  Note that the mean of this\n",
    "        AR(1) process, :math:`y`, is simply :math:`\\bar{y}/(1 - \\rho)`\n",
    "    sigma : float\n",
    "        The value of the standard deviation of the :math:`\\varepsilon` process\n",
    "    rho : float\n",
    "        By default this will be 0, but if you are approximating an AR(1)\n",
    "        process then this is the autocorrelation across periods\n",
    "    \"\"\"\n",
    "\n",
    "    # Get the standard deviation of y\n",
    "    sigmaz = sigma #sqrt(sigma**2 / (1 - rho**2))\n",
    "\n",
    "    p = (1 + rho) / 2\n",
    "    \n",
    "    PI = row_build_mat(n, p, p)  # Build transition matrix\n",
    "    \n",
    "    fi = np.sqrt(n - 1) * sigmaz\n",
    "    Z = np.linspace(-fi, fi, n)\n",
    "    Z = Z + mu\n",
    "\n",
    "    return Z, PI\n",
    "\n",
    "\n",
    "def row_build_mat(n, p, q):\n",
    "    \"\"\"\n",
    "    This method uses the values of p and q to build the transition\n",
    "    matrix for the rouwenhorst method\n",
    "    \"\"\"\n",
    "\n",
    "    if n == 2:\n",
    "        theta = np.array([[p, 1 - p], [1 - q, q]])\n",
    "\n",
    "    elif n > 2:\n",
    "        p1 = np.zeros((n, n))\n",
    "        p2 = np.zeros((n, n))\n",
    "        p3 = np.zeros((n, n))\n",
    "        p4 = np.zeros((n, n))\n",
    "\n",
    "        new_mat = row_build_mat(n - 1, p, q)\n",
    "\n",
    "        p1[:n - 1, :n - 1] = p * new_mat\n",
    "        p2[:n - 1, 1:] = (1 - p) * new_mat\n",
    "        p3[1:, :-1] = (1 - q) * new_mat\n",
    "        p4[1:, 1:] = q * new_mat\n",
    "\n",
    "        theta = p1 + p2 + p3 + p4\n",
    "        theta[1:n - 1, :] = theta[1:n - 1, :] / 2\n",
    "\n",
    "    else:\n",
    "        raise ValueError(\"The number of states must be positive \" +\n",
    "                         \"and greater than or equal to 2\")\n",
    "\n",
    "    return theta"
   ]
  },
  {
   "cell_type": "code",
   "execution_count": null,
   "id": "450e67a2-06d9-4824-a0b5-343e53f0efa2",
   "metadata": {},
   "outputs": [],
   "source": []
  },
  {
   "cell_type": "code",
   "execution_count": 198,
   "id": "b225be4b-cc98-40a1-8e95-ec7c561ab2b2",
   "metadata": {},
   "outputs": [
    {
     "data": {
      "text/plain": [
       "(array([[0.43, 0.57],\n",
       "        [0.57, 0.43]]),\n",
       " array([-0.02000246,  0.05210772]))"
      ]
     },
     "execution_count": 198,
     "metadata": {},
     "output_type": "execute_result"
    }
   ],
   "source": [
    "mu = 0.0183\n",
    "sigma = 0.0357\n",
    "rho = -0.14\n",
    "\n",
    "\n",
    "rouwenhorst(n=2, ybar=mu, sigma=sigma, rho=rho)"
   ]
  },
  {
   "cell_type": "code",
   "execution_count": 43,
   "id": "602fb160-ad80-4480-b1d6-1ca56d807635",
   "metadata": {},
   "outputs": [
    {
     "data": {
      "text/plain": [
       "0.054000000000000006"
      ]
     },
     "execution_count": 43,
     "metadata": {},
     "output_type": "execute_result"
    }
   ],
   "source": [
    "mu + sigma"
   ]
  },
  {
   "cell_type": "code",
   "execution_count": 44,
   "id": "242d31be-dc5a-4ba6-88f0-084da84c8b29",
   "metadata": {},
   "outputs": [
    {
     "data": {
      "text/plain": [
       "-0.017400000000000002"
      ]
     },
     "execution_count": 44,
     "metadata": {},
     "output_type": "execute_result"
    }
   ],
   "source": [
    "mu - sigma"
   ]
  },
  {
   "cell_type": "code",
   "execution_count": null,
   "id": "dace35a0-eeef-44b4-b4a7-21d1893d8d62",
   "metadata": {},
   "outputs": [],
   "source": []
  }
 ],
 "metadata": {
  "kernelspec": {
   "display_name": "Python 3",
   "language": "python",
   "name": "python3"
  },
  "language_info": {
   "codemirror_mode": {
    "name": "ipython",
    "version": 3
   },
   "file_extension": ".py",
   "mimetype": "text/x-python",
   "name": "python",
   "nbconvert_exporter": "python",
   "pygments_lexer": "ipython3",
   "version": "3.9.1"
  }
 },
 "nbformat": 4,
 "nbformat_minor": 5
}
