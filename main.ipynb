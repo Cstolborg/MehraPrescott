{
 "cells": [
  {
   "cell_type": "code",
   "execution_count": 10,
   "id": "63c9f343-7d66-4267-bc6d-50695f219662",
   "metadata": {},
   "outputs": [],
   "source": [
    "import os\n",
    "\n",
    "import numpy as np\n",
    "import pandas as pd\n",
    "from math import erfc, sqrt\n",
    "from scipy import stats\n",
    "import statsmodels.api as sm\n",
    "import scipy.optimize as opt\n",
    "import warnings\n",
    "\n",
    "from utils import rouwenhorst\n",
    "from main import run\n",
    "\n",
    "warnings.filterwarnings('ignore')\n",
    "pd.set_option('display.max_columns', 500)"
   ]
  },
  {
   "cell_type": "markdown",
   "id": "1b586fc6-8a56-40f3-98e4-8a9df6df3e00",
   "metadata": {},
   "source": [
    "## 2. Summary statistics of monthly, annual and quarterly growth"
   ]
  },
  {
   "cell_type": "code",
   "execution_count": 14,
   "id": "58d0a819-427d-489e-a46e-0179ce2f5ac2",
   "metadata": {},
   "outputs": [
    {
     "data": {
      "text/html": [
       "<div>\n",
       "<style scoped>\n",
       "    .dataframe tbody tr th:only-of-type {\n",
       "        vertical-align: middle;\n",
       "    }\n",
       "\n",
       "    .dataframe tbody tr th {\n",
       "        vertical-align: top;\n",
       "    }\n",
       "\n",
       "    .dataframe thead th {\n",
       "        text-align: right;\n",
       "    }\n",
       "</style>\n",
       "<table border=\"1\" class=\"dataframe\">\n",
       "  <thead>\n",
       "    <tr style=\"text-align: right;\">\n",
       "      <th></th>\n",
       "      <th>Monthly</th>\n",
       "      <th>Quarterly</th>\n",
       "      <th>Annual</th>\n",
       "    </tr>\n",
       "  </thead>\n",
       "  <tbody>\n",
       "    <tr>\n",
       "      <th>count</th>\n",
       "      <td>743.0000</td>\n",
       "      <td>295.0000</td>\n",
       "      <td>91.0000</td>\n",
       "    </tr>\n",
       "    <tr>\n",
       "      <th>mean</th>\n",
       "      <td>0.0015</td>\n",
       "      <td>0.0045</td>\n",
       "      <td>0.0173</td>\n",
       "    </tr>\n",
       "    <tr>\n",
       "      <th>std</th>\n",
       "      <td>0.0071</td>\n",
       "      <td>0.0094</td>\n",
       "      <td>0.0220</td>\n",
       "    </tr>\n",
       "    <tr>\n",
       "      <th>min</th>\n",
       "      <td>-0.1331</td>\n",
       "      <td>-0.1109</td>\n",
       "      <td>-0.0806</td>\n",
       "    </tr>\n",
       "    <tr>\n",
       "      <th>25%</th>\n",
       "      <td>-0.0007</td>\n",
       "      <td>0.0020</td>\n",
       "      <td>0.0099</td>\n",
       "    </tr>\n",
       "    <tr>\n",
       "      <th>50%</th>\n",
       "      <td>0.0016</td>\n",
       "      <td>0.0047</td>\n",
       "      <td>0.0203</td>\n",
       "    </tr>\n",
       "    <tr>\n",
       "      <th>75%</th>\n",
       "      <td>0.0038</td>\n",
       "      <td>0.0075</td>\n",
       "      <td>0.0305</td>\n",
       "    </tr>\n",
       "    <tr>\n",
       "      <th>max</th>\n",
       "      <td>0.0624</td>\n",
       "      <td>0.0751</td>\n",
       "      <td>0.0737</td>\n",
       "    </tr>\n",
       "    <tr>\n",
       "      <th>skew</th>\n",
       "      <td>-8.4756</td>\n",
       "      <td>-5.0063</td>\n",
       "      <td>-1.5460</td>\n",
       "    </tr>\n",
       "    <tr>\n",
       "      <th>kurt</th>\n",
       "      <td>186.7268</td>\n",
       "      <td>88.6626</td>\n",
       "      <td>5.1247</td>\n",
       "    </tr>\n",
       "    <tr>\n",
       "      <th>AR(1)</th>\n",
       "      <td>0.0352</td>\n",
       "      <td>-0.1366</td>\n",
       "      <td>0.4723</td>\n",
       "    </tr>\n",
       "    <tr>\n",
       "      <th>AR(2)</th>\n",
       "      <td>-0.2615</td>\n",
       "      <td>0.0098</td>\n",
       "      <td>0.1854</td>\n",
       "    </tr>\n",
       "    <tr>\n",
       "      <th>AR(3)</th>\n",
       "      <td>-0.0196</td>\n",
       "      <td>0.0877</td>\n",
       "      <td>-0.0530</td>\n",
       "    </tr>\n",
       "  </tbody>\n",
       "</table>\n",
       "</div>"
      ],
      "text/plain": [
       "        Monthly  Quarterly   Annual\n",
       "count  743.0000   295.0000  91.0000\n",
       "mean     0.0015     0.0045   0.0173\n",
       "std      0.0071     0.0094   0.0220\n",
       "min     -0.1331    -0.1109  -0.0806\n",
       "25%     -0.0007     0.0020   0.0099\n",
       "50%      0.0016     0.0047   0.0203\n",
       "75%      0.0038     0.0075   0.0305\n",
       "max      0.0624     0.0751   0.0737\n",
       "skew    -8.4756    -5.0063  -1.5460\n",
       "kurt   186.7268    88.6626   5.1247\n",
       "AR(1)    0.0352    -0.1366   0.4723\n",
       "AR(2)   -0.2615     0.0098   0.1854\n",
       "AR(3)   -0.0196     0.0877  -0.0530"
      ]
     },
     "execution_count": 14,
     "metadata": {},
     "output_type": "execute_result"
    }
   ],
   "source": [
    "df_month = pd.read_csv(\"./data/PCE monthly growth data.csv\", index_col='date')  # Monthly data\n",
    "df_quart = pd.read_csv(\"./data/PCE quarterly growth data.csv\", index_col='date')\n",
    "df_annual = pd.read_excel(\"./data/PCE growth data.xlsx\", index_col='year')\n",
    "\n",
    "def describe(df, stats):\n",
    "    d = df.describe()\n",
    "    return d.append(df.reindex(d.columns, axis = 1).agg(stats))\n",
    "\n",
    "out = pd.DataFrame()\n",
    "out1 = {}\n",
    "\n",
    "for df, name in zip([df_month, df_quart, df_annual], ['Monthly', 'Quarterly', 'Annual']):\n",
    "    out[name] = describe(df, ['skew', 'kurt'])\n",
    "\n",
    "    out1[name] = []\n",
    "    for i in [1,2,3]:\n",
    "        out1[name].append(df['growth'].autocorr(lag=i))\n",
    "\n",
    "out1 = pd.DataFrame(out1, index=['AR(1)', 'AR(2)', 'AR(3)'])\n",
    "\n",
    "out.append(out1).round(4)"
   ]
  },
  {
   "cell_type": "markdown",
   "id": "0264c42b-8e0b-4d4e-b3b6-edca512358f1",
   "metadata": {},
   "source": [
    "Lower frequency data (annual) is more persistent than higher frequency data as can be seen by their AR(1) components. Since in the Mehra-Prescott model, $p=\\frac{1+\\rho}{2}$, then it follows that for $\\rho$ close to zero, $p$ will be very close to $0.5$. Thus, for annual data, we can infer that $p>>0.5$ and thus persistence of a Markov Chain will be higher. As a result, all else equal, higher persistence decreases the equity premium in the Mehra-Prescott model. Thus, using the annual data, we expect to find a smaller premium than we would have for monthly data."
   ]
  },
  {
   "cell_type": "markdown",
   "id": "2c50c5ae-b66a-4770-bcf8-892b8e073def",
   "metadata": {
    "tags": []
   },
   "source": [
    "## 3.a Reproduce Mehra-Prescott"
   ]
  },
  {
   "cell_type": "markdown",
   "id": "31ebc50f-9e4c-4747-8874-1f1d16f52396",
   "metadata": {},
   "source": [
    "### Two-state Markov Chain"
   ]
  },
  {
   "cell_type": "code",
   "execution_count": 15,
   "id": "1ac03fca-f49f-43a5-8f40-8200f4419332",
   "metadata": {},
   "outputs": [
    {
     "data": {
      "text/html": [
       "<div>\n",
       "<style scoped>\n",
       "    .dataframe tbody tr th:only-of-type {\n",
       "        vertical-align: middle;\n",
       "    }\n",
       "\n",
       "    .dataframe tbody tr th {\n",
       "        vertical-align: top;\n",
       "    }\n",
       "\n",
       "    .dataframe thead th {\n",
       "        text-align: right;\n",
       "    }\n",
       "</style>\n",
       "<table border=\"1\" class=\"dataframe\">\n",
       "  <thead>\n",
       "    <tr style=\"text-align: right;\">\n",
       "      <th></th>\n",
       "      <th>Mean</th>\n",
       "      <th>Rho</th>\n",
       "      <th>Std</th>\n",
       "    </tr>\n",
       "  </thead>\n",
       "  <tbody>\n",
       "    <tr>\n",
       "      <th>AR coef</th>\n",
       "      <td>0.022761</td>\n",
       "      <td>-0.100142</td>\n",
       "      <td>0.039678</td>\n",
       "    </tr>\n",
       "    <tr>\n",
       "      <th>AR moments</th>\n",
       "      <td>1.020689</td>\n",
       "      <td>-0.100142</td>\n",
       "      <td>0.039878</td>\n",
       "    </tr>\n",
       "    <tr>\n",
       "      <th>Markov Chain</th>\n",
       "      <td>1.020689</td>\n",
       "      <td>-0.100142</td>\n",
       "      <td>0.039878</td>\n",
       "    </tr>\n",
       "  </tbody>\n",
       "</table>\n",
       "</div>"
      ],
      "text/plain": [
       "                  Mean       Rho       Std\n",
       "AR coef       0.022761 -0.100142  0.039678\n",
       "AR moments    1.020689 -0.100142  0.039878\n",
       "Markov Chain  1.020689 -0.100142  0.039878"
      ]
     },
     "execution_count": 15,
     "metadata": {},
     "output_type": "execute_result"
    }
   ],
   "source": [
    "path_mehra = \"./data/Shiller data extended.xlsx\"\n",
    "out, summ = run(n=2, path=path_mehra)\n",
    "\n",
    "summ"
   ]
  },
  {
   "cell_type": "markdown",
   "id": "f0897e9a-78d9-45af-91a2-efa352ac6c26",
   "metadata": {},
   "source": [
    "### 10-state Markov Chain"
   ]
  },
  {
   "cell_type": "code",
   "execution_count": 16,
   "id": "5c19688d-9ea0-489b-bacf-a2feecba6600",
   "metadata": {},
   "outputs": [
    {
     "data": {
      "text/html": [
       "<div>\n",
       "<style scoped>\n",
       "    .dataframe tbody tr th:only-of-type {\n",
       "        vertical-align: middle;\n",
       "    }\n",
       "\n",
       "    .dataframe tbody tr th {\n",
       "        vertical-align: top;\n",
       "    }\n",
       "\n",
       "    .dataframe thead th {\n",
       "        text-align: right;\n",
       "    }\n",
       "</style>\n",
       "<table border=\"1\" class=\"dataframe\">\n",
       "  <thead>\n",
       "    <tr style=\"text-align: right;\">\n",
       "      <th></th>\n",
       "      <th>Mean</th>\n",
       "      <th>Rho</th>\n",
       "      <th>Std</th>\n",
       "    </tr>\n",
       "  </thead>\n",
       "  <tbody>\n",
       "    <tr>\n",
       "      <th>AR coef</th>\n",
       "      <td>0.022761</td>\n",
       "      <td>-0.100142</td>\n",
       "      <td>0.039678</td>\n",
       "    </tr>\n",
       "    <tr>\n",
       "      <th>AR moments</th>\n",
       "      <td>1.020689</td>\n",
       "      <td>-0.100142</td>\n",
       "      <td>0.039878</td>\n",
       "    </tr>\n",
       "    <tr>\n",
       "      <th>Markov Chain</th>\n",
       "      <td>1.020689</td>\n",
       "      <td>-0.091026</td>\n",
       "      <td>0.039878</td>\n",
       "    </tr>\n",
       "  </tbody>\n",
       "</table>\n",
       "</div>"
      ],
      "text/plain": [
       "                  Mean       Rho       Std\n",
       "AR coef       0.022761 -0.100142  0.039678\n",
       "AR moments    1.020689 -0.100142  0.039878\n",
       "Markov Chain  1.020689 -0.091026  0.039878"
      ]
     },
     "execution_count": 16,
     "metadata": {},
     "output_type": "execute_result"
    }
   ],
   "source": [
    "out, summ = run(n=10, path=path_mehra)\n",
    "\n",
    "summ"
   ]
  },
  {
   "cell_type": "markdown",
   "id": "0b27c095-b702-461a-a62d-e1cb30577c20",
   "metadata": {},
   "source": [
    "The 10-state chain appear to match the autocorrelation worse than the two-state, which is exact."
   ]
  },
  {
   "cell_type": "markdown",
   "id": "8f9b6c37-ad31-4110-a644-320b5e28b073",
   "metadata": {
    "tags": []
   },
   "source": [
    "## 3.B NIPA Data long sample\n",
    "### Two-state chain"
   ]
  },
  {
   "cell_type": "code",
   "execution_count": 17,
   "id": "76a76d75-5437-47d0-baf3-13d7ec7621b0",
   "metadata": {},
   "outputs": [
    {
     "data": {
      "text/html": [
       "<div>\n",
       "<style scoped>\n",
       "    .dataframe tbody tr th:only-of-type {\n",
       "        vertical-align: middle;\n",
       "    }\n",
       "\n",
       "    .dataframe tbody tr th {\n",
       "        vertical-align: top;\n",
       "    }\n",
       "\n",
       "    .dataframe thead th {\n",
       "        text-align: right;\n",
       "    }\n",
       "</style>\n",
       "<table border=\"1\" class=\"dataframe\">\n",
       "  <thead>\n",
       "    <tr style=\"text-align: right;\">\n",
       "      <th></th>\n",
       "      <th>Mean</th>\n",
       "      <th>Rho</th>\n",
       "      <th>Std</th>\n",
       "    </tr>\n",
       "  </thead>\n",
       "  <tbody>\n",
       "    <tr>\n",
       "      <th>AR coef</th>\n",
       "      <td>0.009307</td>\n",
       "      <td>0.4795</td>\n",
       "      <td>0.018700</td>\n",
       "    </tr>\n",
       "    <tr>\n",
       "      <th>AR moments</th>\n",
       "      <td>1.017882</td>\n",
       "      <td>0.4795</td>\n",
       "      <td>0.021309</td>\n",
       "    </tr>\n",
       "    <tr>\n",
       "      <th>Markov Chain</th>\n",
       "      <td>1.017882</td>\n",
       "      <td>0.4795</td>\n",
       "      <td>0.021309</td>\n",
       "    </tr>\n",
       "  </tbody>\n",
       "</table>\n",
       "</div>"
      ],
      "text/plain": [
       "                  Mean     Rho       Std\n",
       "AR coef       0.009307  0.4795  0.018700\n",
       "AR moments    1.017882  0.4795  0.021309\n",
       "Markov Chain  1.017882  0.4795  0.021309"
      ]
     },
     "execution_count": 17,
     "metadata": {},
     "output_type": "execute_result"
    }
   ],
   "source": [
    "path_nipa = \"./data/PCE growth data.xlsx\"\n",
    "out, summ = run(n=2, path=path_nipa)\n",
    "\n",
    "summ"
   ]
  },
  {
   "cell_type": "markdown",
   "id": "e2aa1ac9-baa2-4183-91ce-5dee5087a702",
   "metadata": {},
   "source": [
    "### 10-state chain"
   ]
  },
  {
   "cell_type": "code",
   "execution_count": 18,
   "id": "7d239992-bf85-4fc8-b8cb-7eacb92ccd59",
   "metadata": {},
   "outputs": [
    {
     "data": {
      "text/html": [
       "<div>\n",
       "<style scoped>\n",
       "    .dataframe tbody tr th:only-of-type {\n",
       "        vertical-align: middle;\n",
       "    }\n",
       "\n",
       "    .dataframe tbody tr th {\n",
       "        vertical-align: top;\n",
       "    }\n",
       "\n",
       "    .dataframe thead th {\n",
       "        text-align: right;\n",
       "    }\n",
       "</style>\n",
       "<table border=\"1\" class=\"dataframe\">\n",
       "  <thead>\n",
       "    <tr style=\"text-align: right;\">\n",
       "      <th></th>\n",
       "      <th>Mean</th>\n",
       "      <th>Rho</th>\n",
       "      <th>Std</th>\n",
       "    </tr>\n",
       "  </thead>\n",
       "  <tbody>\n",
       "    <tr>\n",
       "      <th>AR coef</th>\n",
       "      <td>0.009307</td>\n",
       "      <td>0.479500</td>\n",
       "      <td>0.018700</td>\n",
       "    </tr>\n",
       "    <tr>\n",
       "      <th>AR moments</th>\n",
       "      <td>1.017882</td>\n",
       "      <td>0.479500</td>\n",
       "      <td>0.021309</td>\n",
       "    </tr>\n",
       "    <tr>\n",
       "      <th>Markov Chain</th>\n",
       "      <td>1.017882</td>\n",
       "      <td>0.919996</td>\n",
       "      <td>0.021309</td>\n",
       "    </tr>\n",
       "  </tbody>\n",
       "</table>\n",
       "</div>"
      ],
      "text/plain": [
       "                  Mean       Rho       Std\n",
       "AR coef       0.009307  0.479500  0.018700\n",
       "AR moments    1.017882  0.479500  0.021309\n",
       "Markov Chain  1.017882  0.919996  0.021309"
      ]
     },
     "execution_count": 18,
     "metadata": {},
     "output_type": "execute_result"
    }
   ],
   "source": [
    "_, summ = run(n=10, path=path_nipa)\n",
    "\n",
    "summ"
   ]
  },
  {
   "cell_type": "markdown",
   "id": "1fbad1d7-b57f-4463-979d-8033f0abbf3d",
   "metadata": {},
   "source": [
    "## 3.C NIPA data post-war\n",
    "### Two-state chain"
   ]
  },
  {
   "cell_type": "code",
   "execution_count": 19,
   "id": "8a7a992f-136c-46af-9f22-e7dc5524bd0a",
   "metadata": {},
   "outputs": [
    {
     "data": {
      "text/html": [
       "<div>\n",
       "<style scoped>\n",
       "    .dataframe tbody tr th:only-of-type {\n",
       "        vertical-align: middle;\n",
       "    }\n",
       "\n",
       "    .dataframe tbody tr th {\n",
       "        vertical-align: top;\n",
       "    }\n",
       "\n",
       "    .dataframe thead th {\n",
       "        text-align: right;\n",
       "    }\n",
       "</style>\n",
       "<table border=\"1\" class=\"dataframe\">\n",
       "  <thead>\n",
       "    <tr style=\"text-align: right;\">\n",
       "      <th></th>\n",
       "      <th>Mean</th>\n",
       "      <th>Rho</th>\n",
       "      <th>Std</th>\n",
       "    </tr>\n",
       "  </thead>\n",
       "  <tbody>\n",
       "    <tr>\n",
       "      <th>AR coef</th>\n",
       "      <td>0.008654</td>\n",
       "      <td>0.493172</td>\n",
       "      <td>0.013500</td>\n",
       "    </tr>\n",
       "    <tr>\n",
       "      <th>AR moments</th>\n",
       "      <td>1.017075</td>\n",
       "      <td>0.493172</td>\n",
       "      <td>0.015519</td>\n",
       "    </tr>\n",
       "    <tr>\n",
       "      <th>Markov Chain</th>\n",
       "      <td>1.017075</td>\n",
       "      <td>0.493172</td>\n",
       "      <td>0.015519</td>\n",
       "    </tr>\n",
       "  </tbody>\n",
       "</table>\n",
       "</div>"
      ],
      "text/plain": [
       "                  Mean       Rho       Std\n",
       "AR coef       0.008654  0.493172  0.013500\n",
       "AR moments    1.017075  0.493172  0.015519\n",
       "Markov Chain  1.017075  0.493172  0.015519"
      ]
     },
     "execution_count": 19,
     "metadata": {},
     "output_type": "execute_result"
    }
   ],
   "source": [
    "_, summ = run(n=2, path=path_nipa, start_year=1950)\n",
    "summ"
   ]
  },
  {
   "cell_type": "markdown",
   "id": "1af346b3-2f42-4bb9-9f79-13629851f5ff",
   "metadata": {},
   "source": [
    "### 10-state chain"
   ]
  },
  {
   "cell_type": "code",
   "execution_count": 20,
   "id": "a4df8353-3d9a-45a1-8fb8-3d4072780c7b",
   "metadata": {},
   "outputs": [
    {
     "data": {
      "text/html": [
       "<div>\n",
       "<style scoped>\n",
       "    .dataframe tbody tr th:only-of-type {\n",
       "        vertical-align: middle;\n",
       "    }\n",
       "\n",
       "    .dataframe tbody tr th {\n",
       "        vertical-align: top;\n",
       "    }\n",
       "\n",
       "    .dataframe thead th {\n",
       "        text-align: right;\n",
       "    }\n",
       "</style>\n",
       "<table border=\"1\" class=\"dataframe\">\n",
       "  <thead>\n",
       "    <tr style=\"text-align: right;\">\n",
       "      <th></th>\n",
       "      <th>Mean</th>\n",
       "      <th>Rho</th>\n",
       "      <th>Std</th>\n",
       "    </tr>\n",
       "  </thead>\n",
       "  <tbody>\n",
       "    <tr>\n",
       "      <th>AR coef</th>\n",
       "      <td>0.008654</td>\n",
       "      <td>0.493172</td>\n",
       "      <td>0.013500</td>\n",
       "    </tr>\n",
       "    <tr>\n",
       "      <th>AR moments</th>\n",
       "      <td>1.017075</td>\n",
       "      <td>0.493172</td>\n",
       "      <td>0.015519</td>\n",
       "    </tr>\n",
       "    <tr>\n",
       "      <th>Markov Chain</th>\n",
       "      <td>1.017075</td>\n",
       "      <td>0.971377</td>\n",
       "      <td>0.015519</td>\n",
       "    </tr>\n",
       "  </tbody>\n",
       "</table>\n",
       "</div>"
      ],
      "text/plain": [
       "                  Mean       Rho       Std\n",
       "AR coef       0.008654  0.493172  0.013500\n",
       "AR moments    1.017075  0.493172  0.015519\n",
       "Markov Chain  1.017075  0.971377  0.015519"
      ]
     },
     "execution_count": 20,
     "metadata": {},
     "output_type": "execute_result"
    }
   ],
   "source": [
    "_, summ = run(n=10, path=path_nipa, start_year=1950)\n",
    "summ"
   ]
  },
  {
   "cell_type": "markdown",
   "id": "415c190e-089d-4e5f-bcfd-cafa9467e609",
   "metadata": {},
   "source": [
    "## 4.\n",
    "\n",
    "Unconditional moments are matched in 3.B"
   ]
  },
  {
   "cell_type": "code",
   "execution_count": 21,
   "id": "c54628d1-0e1c-4a12-8582-3c3aa0200850",
   "metadata": {},
   "outputs": [
    {
     "name": "stdout",
     "output_type": "stream",
     "text": [
      "Conditional moments\n"
     ]
    },
    {
     "data": {
      "text/html": [
       "<div>\n",
       "<style scoped>\n",
       "    .dataframe tbody tr th:only-of-type {\n",
       "        vertical-align: middle;\n",
       "    }\n",
       "\n",
       "    .dataframe tbody tr th {\n",
       "        vertical-align: top;\n",
       "    }\n",
       "\n",
       "    .dataframe thead th {\n",
       "        text-align: right;\n",
       "    }\n",
       "</style>\n",
       "<table border=\"1\" class=\"dataframe\">\n",
       "  <thead>\n",
       "    <tr style=\"text-align: right;\">\n",
       "      <th></th>\n",
       "      <th>mu</th>\n",
       "      <th>std</th>\n",
       "    </tr>\n",
       "  </thead>\n",
       "  <tbody>\n",
       "    <tr>\n",
       "      <th>Bad State</th>\n",
       "      <td>1.007664</td>\n",
       "      <td>0.0187</td>\n",
       "    </tr>\n",
       "    <tr>\n",
       "      <th>Good State</th>\n",
       "      <td>1.028099</td>\n",
       "      <td>0.0187</td>\n",
       "    </tr>\n",
       "  </tbody>\n",
       "</table>\n",
       "</div>"
      ],
      "text/plain": [
       "                  mu     std\n",
       "Bad State   1.007664  0.0187\n",
       "Good State  1.028099  0.0187"
      ]
     },
     "execution_count": 21,
     "metadata": {},
     "output_type": "execute_result"
    }
   ],
   "source": [
    "# Calibrate chain from data\n",
    "out, summ = run(n=2, path=path_nipa)\n",
    "Z, P, pi, mu, sigma, rho = out['Z'], out['P'], out['stationary dist'], out['mean'], out['std'], out['rho']\n",
    "gamma = 2\n",
    "beta = np.exp(-0.02)\n",
    "\n",
    "print(\"Conditional moments\")\n",
    "cond_mu = P @ Z\n",
    "cond_std = np.sqrt((P @ Z**2) - cond_mu**2)\n",
    "\n",
    "\n",
    "pd.DataFrame({'mu': cond_mu,\n",
    "             'std': cond_std}, index=['Bad State', 'Good State'])"
   ]
  },
  {
   "cell_type": "code",
   "execution_count": 22,
   "id": "de438f21-bd88-4f5b-92d3-fa21c24f32fe",
   "metadata": {},
   "outputs": [
    {
     "data": {
      "text/plain": [
       "0.9858463267717398"
      ]
     },
     "execution_count": 22,
     "metadata": {},
     "output_type": "execute_result"
    }
   ],
   "source": [
    "def bond_return(beta, Z=Z, P=P, n=1, gamma=2):\n",
    "    # Compute risk-free return from Markov Chain\n",
    "    B_i = np.zeros(2)\n",
    "    for i in range(2):\n",
    "        for j in range(2):\n",
    "            B_i[i] += beta * P[i, j] * Z[j]**(-gamma)\n",
    "            \n",
    "    Rf_i = 1/B_i - 1  # Net conditonal risk-free return\n",
    "    \n",
    "    B = pi @ Rf_i\n",
    "    return B\n",
    "\n",
    "# Solve for the beta that sets bond-return = 0.05 \n",
    "beta = opt.fsolve(lambda beta: bond_return(beta) - 0.05, x0=np.exp(-0.02))[0]\n",
    "\n",
    "beta"
   ]
  },
  {
   "cell_type": "code",
   "execution_count": 23,
   "id": "1f677a03-7305-49f8-8992-edb04d13c6ef",
   "metadata": {},
   "outputs": [
    {
     "data": {
      "text/plain": [
       "array([0.9354742 , 0.88157146])"
      ]
     },
     "execution_count": 23,
     "metadata": {},
     "output_type": "execute_result"
    }
   ],
   "source": [
    "def B2_cond_price(beta, Z=Z, P=P, n=1, gamma=2):\n",
    "    b = np.zeros(n)\n",
    "    \n",
    "    for i in range(2):\n",
    "        for j in range(2):\n",
    "            for k in range(2):\n",
    "                b[i] += P[i, j] * Z[j]**(-gamma) * P[j, k] * Z[k] **(-gamma)\n",
    "    return b * beta**n\n",
    "                \n",
    "B2 = B2_cond_price(beta, n=2)\n",
    "B2"
   ]
  },
  {
   "cell_type": "code",
   "execution_count": 24,
   "id": "9d33f3a0-f22f-46aa-8c8a-05ce57111415",
   "metadata": {},
   "outputs": [
    {
     "data": {
      "text/plain": [
       "array([0.9718843 , 0.93364498])"
      ]
     },
     "execution_count": 24,
     "metadata": {},
     "output_type": "execute_result"
    }
   ],
   "source": [
    "def B1_cond_price(beta, Z=Z, P=P, n=1, gamma=2):\n",
    "    B1 = np.zeros(2)\n",
    "    for i in range(2):\n",
    "        for j in range(2):\n",
    "            B1[i] += beta * P[i, j] * Z[j]**(-gamma)\n",
    "    return B1\n",
    "\n",
    "B1 = B1_cond_price(beta)\n",
    "            \n",
    "B1"
   ]
  },
  {
   "cell_type": "code",
   "execution_count": 25,
   "id": "ba0eda46-575c-40db-948a-aa149a1f1678",
   "metadata": {},
   "outputs": [
    {
     "name": "stdout",
     "output_type": "stream",
     "text": [
      "Bond returns after 1 period: [0.02828332 0.07035764]\n",
      "Bond prices after 1 period: [0.97249462 0.93426716]\n"
     ]
    },
    {
     "data": {
      "text/html": [
       "<div>\n",
       "<style scoped>\n",
       "    .dataframe tbody tr th:only-of-type {\n",
       "        vertical-align: middle;\n",
       "    }\n",
       "\n",
       "    .dataframe tbody tr th {\n",
       "        vertical-align: top;\n",
       "    }\n",
       "\n",
       "    .dataframe thead th {\n",
       "        text-align: right;\n",
       "    }\n",
       "</style>\n",
       "<table border=\"1\" class=\"dataframe\">\n",
       "  <thead>\n",
       "    <tr style=\"text-align: right;\">\n",
       "      <th></th>\n",
       "      <th>Bad State</th>\n",
       "      <th>Good State</th>\n",
       "    </tr>\n",
       "  </thead>\n",
       "  <tbody>\n",
       "    <tr>\n",
       "      <th>B1</th>\n",
       "      <td>0.971884</td>\n",
       "      <td>0.933645</td>\n",
       "    </tr>\n",
       "    <tr>\n",
       "      <th>B2</th>\n",
       "      <td>0.935474</td>\n",
       "      <td>0.881571</td>\n",
       "    </tr>\n",
       "    <tr>\n",
       "      <th>Holding-return</th>\n",
       "      <td>0.028283</td>\n",
       "      <td>0.070358</td>\n",
       "    </tr>\n",
       "  </tbody>\n",
       "</table>\n",
       "</div>"
      ],
      "text/plain": [
       "                Bad State  Good State\n",
       "B1               0.971884    0.933645\n",
       "B2               0.935474    0.881571\n",
       "Holding-return   0.028283    0.070358"
      ]
     },
     "execution_count": 25,
     "metadata": {},
     "output_type": "execute_result"
    }
   ],
   "source": [
    "h1 = np.zeros(2)\n",
    "for i in range(2):\n",
    "    h1[i] = (B1 / B2[i] * P[i, :]).sum() - 1\n",
    "    \n",
    "print(f\"Bond returns after 1 period: {h1}\")\n",
    "print(f'Bond prices after 1 period: {1/(1+h1)}')\n",
    "\n",
    "pd.DataFrame({'B1': B1,\n",
    "             \"B2\": B2,\n",
    "             \"Holding-return\": h1}, index=['Bad State', 'Good State']).T"
   ]
  },
  {
   "cell_type": "markdown",
   "id": "bffb06f7-8768-45dc-a607-02a5600c0d49",
   "metadata": {},
   "source": [
    "## Price-Dividend ratio in each state i\n"
   ]
  },
  {
   "cell_type": "code",
   "execution_count": 26,
   "id": "7fc27676-a980-4016-9988-6d4422e8c903",
   "metadata": {},
   "outputs": [
    {
     "data": {
      "text/plain": [
       "array([32.18727579, 31.00294884])"
      ]
     },
     "execution_count": 26,
     "metadata": {},
     "output_type": "execute_result"
    }
   ],
   "source": [
    "def equity_price():\n",
    "    A = beta * Z**(1-gamma) * P\n",
    "    b = A.sum(axis=1)\n",
    "\n",
    "    I = np.identity(2)\n",
    "    S = np.linalg.inv(I - A) @ b\n",
    "    return S\n",
    "\n",
    "S = equity_price()\n",
    "S"
   ]
  },
  {
   "cell_type": "code",
   "execution_count": 27,
   "id": "32db074f-97dc-4eed-8874-2589bac18698",
   "metadata": {},
   "outputs": [
    {
     "data": {
      "text/plain": [
       "array([32.29797004, 29.83374248])"
      ]
     },
     "execution_count": 27,
     "metadata": {},
     "output_type": "execute_result"
    }
   ],
   "source": [
    "P_D = S / Z\n",
    "P_D"
   ]
  },
  {
   "cell_type": "markdown",
   "id": "a8244032-4df7-4dac-809f-f2dad3838a54",
   "metadata": {},
   "source": [
    "## Return on equity"
   ]
  },
  {
   "cell_type": "code",
   "execution_count": 28,
   "id": "bcf3ec13-a5ea-415f-8bde-64d35f8d0703",
   "metadata": {},
   "outputs": [
    {
     "data": {
      "text/plain": [
       "array([[0.02753442, 0.0667867 ],\n",
       "       [0.0332396 , 0.07270983]])"
      ]
     },
     "execution_count": 28,
     "metadata": {},
     "output_type": "execute_result"
    }
   ],
   "source": [
    "def return_equity():\n",
    "    re = np.zeros((2, 2))\n",
    "    for i in range(2):\n",
    "        for j in range(2):\n",
    "            re[j, i] = Z[j]*(S[j]+1)/S[i]-1\n",
    "    return re\n",
    "\n",
    "re = return_equity()\n",
    "re"
   ]
  },
  {
   "cell_type": "code",
   "execution_count": 29,
   "id": "fb5efb30-4891-4bcb-9695-62650e95d612",
   "metadata": {},
   "outputs": [
    {
     "data": {
      "text/plain": [
       "array([[-0.00139465,  0.03785764],\n",
       "       [-0.03783134,  0.00163889]])"
      ]
     },
     "execution_count": 29,
     "metadata": {},
     "output_type": "execute_result"
    }
   ],
   "source": [
    "# Excess returns\n",
    "rf = 1/B1 - 1  # 1-period risk-free rate\n",
    "\n",
    "excess_ret = (re.T - rf).T\n",
    "excess_ret"
   ]
  },
  {
   "cell_type": "markdown",
   "id": "125bdd30-2212-479e-a781-9b636cc18dae",
   "metadata": {},
   "source": [
    "## Unconditional moments of equity and bond returns"
   ]
  },
  {
   "cell_type": "code",
   "execution_count": 30,
   "id": "20ea526c-f928-4293-9683-c9097fdfef69",
   "metadata": {},
   "outputs": [
    {
     "data": {
      "text/plain": [
       "0.05009376398854534"
      ]
     },
     "execution_count": 30,
     "metadata": {},
     "output_type": "execute_result"
    }
   ],
   "source": [
    "def uncond_re(re):\n",
    "    cond_re = (P * re.T).sum(axis=1)\n",
    "    return pi @ cond_re\n",
    "\n",
    "re_uncond = uncond_re(re)\n",
    "\n",
    "uncond_rf = pi @ rf\n",
    "\n",
    "re_uncond"
   ]
  },
  {
   "cell_type": "code",
   "execution_count": 31,
   "id": "ce411100-c5b3-4828-9f33-93821c687aa4",
   "metadata": {},
   "outputs": [
    {
     "data": {
      "text/html": [
       "<div>\n",
       "<style scoped>\n",
       "    .dataframe tbody tr th:only-of-type {\n",
       "        vertical-align: middle;\n",
       "    }\n",
       "\n",
       "    .dataframe tbody tr th {\n",
       "        vertical-align: top;\n",
       "    }\n",
       "\n",
       "    .dataframe thead th {\n",
       "        text-align: right;\n",
       "    }\n",
       "</style>\n",
       "<table border=\"1\" class=\"dataframe\">\n",
       "  <thead>\n",
       "    <tr style=\"text-align: right;\">\n",
       "      <th></th>\n",
       "      <th>Mean</th>\n",
       "      <th>Std</th>\n",
       "      <th>Rho</th>\n",
       "    </tr>\n",
       "  </thead>\n",
       "  <tbody>\n",
       "    <tr>\n",
       "      <th>0</th>\n",
       "      <td>0.000094</td>\n",
       "      <td>0.000004</td>\n",
       "      <td>[0.7397501537169732, 0.7397501537169732]</td>\n",
       "    </tr>\n",
       "  </tbody>\n",
       "</table>\n",
       "</div>"
      ],
      "text/plain": [
       "       Mean       Std                                       Rho\n",
       "0  0.000094  0.000004  [0.7397501537169732, 0.7397501537169732]"
      ]
     },
     "metadata": {},
     "output_type": "display_data"
    },
    {
     "name": "stdout",
     "output_type": "stream",
     "text": [
      "________________________________________\n"
     ]
    }
   ],
   "source": [
    "cond_re = (P * re.T).sum(axis=1)\n",
    "cond_ER = cond_re - rf\n",
    "\n",
    "ER_mean = uncond_re(re) - pi @ rf\n",
    "std = np.sqrt( (pi @ cond_ER**2) - ER_mean**2)\n",
    "rho1 = np.diag(P)\n",
    "\n",
    "display(pd.DataFrame([ER_mean, std, rho1], index=['Mean', 'Std', 'Rho']).T)\n",
    "print(\"_\"*40)"
   ]
  },
  {
   "cell_type": "code",
   "execution_count": null,
   "id": "9151d0de-c3c3-45e1-b708-dc46b2a3b80c",
   "metadata": {},
   "outputs": [],
   "source": []
  },
  {
   "cell_type": "code",
   "execution_count": null,
   "id": "1f472cc4-5939-47b4-8058-5ecab10d368b",
   "metadata": {},
   "outputs": [],
   "source": []
  },
  {
   "cell_type": "code",
   "execution_count": null,
   "id": "b6f270b2-4d50-4264-b771-8aa1a0f22753",
   "metadata": {},
   "outputs": [],
   "source": []
  },
  {
   "cell_type": "code",
   "execution_count": null,
   "id": "69ab19a9-3529-4b26-9444-67f4cdb7c366",
   "metadata": {},
   "outputs": [],
   "source": []
  },
  {
   "cell_type": "code",
   "execution_count": null,
   "id": "34bb9d1c-bea4-4a77-884f-2022e0ad759c",
   "metadata": {},
   "outputs": [],
   "source": []
  },
  {
   "cell_type": "code",
   "execution_count": null,
   "id": "a614884c-2546-47de-b2c3-d69c4b0c6f0e",
   "metadata": {},
   "outputs": [],
   "source": []
  }
 ],
 "metadata": {
  "kernelspec": {
   "display_name": "Python 3 (ipykernel)",
   "language": "python",
   "name": "python3"
  },
  "language_info": {
   "codemirror_mode": {
    "name": "ipython",
    "version": 3
   },
   "file_extension": ".py",
   "mimetype": "text/x-python",
   "name": "python",
   "nbconvert_exporter": "python",
   "pygments_lexer": "ipython3",
   "version": "3.9.4"
  }
 },
 "nbformat": 4,
 "nbformat_minor": 5
}
